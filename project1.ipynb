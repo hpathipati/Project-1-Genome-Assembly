{
 "cells": [
  {
   "cell_type": "markdown",
   "id": "83cac9fd",
   "metadata": {},
   "source": [
    "# Project 1: Assembling Genomes"
   ]
  },
  {
   "cell_type": "markdown",
   "id": "957de3a0",
   "metadata": {},
   "source": [
    "\n",
    "   <div class=\"alert alert-block alert-danger\">\n",
    "    <center>Due: <b>Tuesday, 8 February, 4:59pm</b>.</center> \n",
    "   </div>\n",
    "   \n",
    "   <div class=\"alert alert-block alert-warning\">\n",
    "   <center>\n",
    "       <b>Collaboration and Resource Policy</b>\n",
    "    </center>\n",
    "    For this assignment, you are encouraged to work with one other person. Your team must satisfy the constraints mentioned in <a href=\"https://www.dropbox.com/s/g6z2xncwc4jsplp/csbio-class2-inked.pdf?dl=0\">Class 2</a>.\n",
    "    \n",
    "   1. You went to different high schools.\n",
    "   2. You and your partner have different answers to <em>at least one</em> of these questions:\n",
    "       - What country were you born in?\n",
    "       - Have you taken any biology courses at UVA?\n",
    "       - Have you taken cs3102?\n",
    "       - Have you taken cs4102?\n",
    "    \n",
    "We expect most students will have the best learning experience on this assignment by working with a partner, but if you prefer to work alone it is okay to do this assignment on your own.\n",
    "    \n",
    "You are permitted (actually _encouraged_) to discuss these problems with anyone you want, including other students in the class. If you do discuss the specific questions in the assignment with anyone other than your assignment partner and the course staff, though, you should list them in the _External resources used_ section below.\n",
    "    \n",
    "You are welcome to use any resources you want for this assignment, other than ones that would defeat the purpose of the assignment. This means you should not look at answers or code from any other students in the class (other than your collaboration with your partner), and if you find code that implements the problem you are being asked to do for the assignment, you should not use that code. You should document all external resource you use that are not part of the course materials in the _External resources used_ section below."
   ]
  },
  {
   "cell_type": "markdown",
   "id": "f8788a0f",
   "metadata": {},
   "source": [
    "**Team submitting this assignment:**  \n",
    "Noor Rafiq (nr5dr) <br>\n",
    "Harshita Pathipati (hp4hz)\n",
    "\n",
    "**External resources used:** \n",
    "<div class=\"alert alert-success\">\n",
    "<em>It is not necessary to list the course materials, but if you used any other resources, including discussing problems with students not on your team, list them here.</em>\n",
    "</div>"
   ]
  },
  {
   "cell_type": "markdown",
   "id": "11415d04",
   "metadata": {},
   "source": [
    "In this project, we will explore genome assembly — the process of determining the order of nucleotides from fragmented reads that are produced by sequencing machines. \n",
    "\n",
    "Genome assembly maps to a very well defined computer science problem, but can get quite complicated, as problems such as full sequence coverage, finding a good length for reads (the $k$ in $k$-mer), and sequencing errors present challenges for sequencing analysis and accuracy. For the required problems (ones everyone is expected to solve), you will be able to assume perfect coverage and no read errors; for the \"challenge\" problem (that is considered a bonus, and not something we expect everyone to be able to solve, and perhaps may not even be feasible for anyone to solve) you will not be able to rely on such assumptions."
   ]
  },
  {
   "cell_type": "markdown",
   "id": "255510c6",
   "metadata": {},
   "source": [
    " <div class=\"alert alert-block alert-warning\">\n",
    "    \n",
    "<b>Submission</b>: You should work on this assignment by forking the provided Project 1 repository (you probably already did this, following the instructions posted at [https://computingbiology.github.io/project1](https://computingbiology.github.io/project1). Add the other teammate to as a collaborator with write access (also under the Settings tab) to this repository.\n",
    "    \n",
    "You should answer the questions and write your code in this Jupyter Notebook. (We don't expect you to need to use any external files or organize your code outside of the notebook, but if you do, make sure to put everything needed to run your code in your repository.) Parts where you are expected to provide and answer (which could be text that can be written in markdown format in the notebook or Python code that runs in the notebook) are marked in green.\n",
    "        \n",
    "When you are ready to submit the assignment, you should create a release of the version you are submitting ([github's directions for how to create a release](https://docs.github.com/en/repositories/releasing-projects-on-github/managing-releases-in-a-repository)) tagged as `submit`. After you've done this, send a message in slack to a channel that includes both team members (so the one sending this message should include the other team member) and all of the course staff (`dave`, `Hyun Jae Cho`, and `Anshuman Suri`) and a link to your repository (feel free to add any other useful comments if you want, but the link to your submission repository is sufficient)."
   ]
  },
  {
   "cell_type": "markdown",
   "id": "a45cfab6",
   "metadata": {},
   "source": [
    "## Getting Started"
   ]
  },
  {
   "cell_type": "markdown",
   "id": "c99649ce",
   "metadata": {},
   "source": [
    "1. Install basic required packages, should be run only once. You may need to restart the jupyter python kernel (under the Kernel menu) after this. (You can execute this directly in the notebook but running the command below.)"
   ]
  },
  {
   "cell_type": "code",
   "execution_count": 1,
   "id": "b7b5864e",
   "metadata": {},
   "outputs": [
    {
     "name": "stdout",
     "output_type": "stream",
     "text": [
      "Collecting gvmagic\n",
      "  Downloading gvmagic-0.5.tar.gz (6.5 kB)\n",
      "Collecting numpy\n",
      "  Downloading numpy-1.22.1-cp310-cp310-win_amd64.whl (14.7 MB)\n",
      "Collecting matplotlib\n",
      "  Downloading matplotlib-3.5.1-cp310-cp310-win_amd64.whl (7.2 MB)\n",
      "Collecting pydot\n",
      "  Downloading pydot-1.4.2-py2.py3-none-any.whl (21 kB)\n",
      "Collecting fonttools>=4.22.0\n",
      "  Downloading fonttools-4.29.1-py3-none-any.whl (895 kB)\n",
      "Requirement already satisfied: python-dateutil>=2.7 in c:\\users\\nrafi\\appdata\\local\\programs\\python\\python310\\lib\\site-packages (from matplotlib->-r requirements.txt (line 3)) (2.8.2)\n",
      "Requirement already satisfied: packaging>=20.0 in c:\\users\\nrafi\\appdata\\local\\programs\\python\\python310\\lib\\site-packages (from matplotlib->-r requirements.txt (line 3)) (21.3)\n",
      "Collecting pillow>=6.2.0\n",
      "  Downloading Pillow-9.0.0-cp310-cp310-win_amd64.whl (3.2 MB)\n",
      "Collecting kiwisolver>=1.0.1\n",
      "  Downloading kiwisolver-1.3.2-cp310-cp310-win_amd64.whl (52 kB)\n",
      "Collecting cycler>=0.10\n",
      "  Downloading cycler-0.11.0-py3-none-any.whl (6.4 kB)\n",
      "Requirement already satisfied: pyparsing>=2.2.1 in c:\\users\\nrafi\\appdata\\local\\programs\\python\\python310\\lib\\site-packages (from matplotlib->-r requirements.txt (line 3)) (3.0.7)\n",
      "Requirement already satisfied: six>=1.5 in c:\\users\\nrafi\\appdata\\local\\programs\\python\\python310\\lib\\site-packages (from python-dateutil>=2.7->matplotlib->-r requirements.txt (line 3)) (1.16.0)\n",
      "Using legacy 'setup.py install' for gvmagic, since package 'wheel' is not installed.\n",
      "Installing collected packages: pillow, numpy, kiwisolver, fonttools, cycler, pydot, matplotlib, gvmagic\n",
      "    Running setup.py install for gvmagic: started\n",
      "    Running setup.py install for gvmagic: finished with status 'done'\n",
      "Successfully installed cycler-0.11.0 fonttools-4.29.1 gvmagic-0.5 kiwisolver-1.3.2 matplotlib-3.5.1 numpy-1.22.1 pillow-9.0.0 pydot-1.4.2\n",
      "Note: you may need to restart the kernel to use updated packages.\n"
     ]
    },
    {
     "name": "stderr",
     "output_type": "stream",
     "text": [
      "WARNING: You are using pip version 21.2.4; however, version 22.0.2 is available.\n",
      "You should consider upgrading via the 'C:\\Users\\nrafi\\AppData\\Local\\Programs\\Python\\Python310\\python.exe -m pip install --upgrade pip' command.\n"
     ]
    }
   ],
   "source": [
    "%pip install -r requirements.txt"
   ]
  },
  {
   "cell_type": "markdown",
   "id": "f6c8d14f",
   "metadata": {},
   "source": [
    "2. Make sure you have [graphviz](https://graphviz.org/) installed on your system. (On a Mac OS X, `brew install graphviz`. For other platforms, see [_https://graphviz.org/download/_](https://graphviz.org/download/).)"
   ]
  },
  {
   "cell_type": "code",
   "execution_count": 2,
   "id": "a7066dc7",
   "metadata": {},
   "outputs": [],
   "source": [
    "import collections\n",
    "import matplotlib.pyplot as plt\n",
    "\n",
    "import utils"
   ]
  },
  {
   "cell_type": "markdown",
   "id": "5f63d4a0",
   "metadata": {},
   "source": [
    "## Part 1: Assembling the TeleTubby Genome"
   ]
  },
  {
   "cell_type": "markdown",
   "id": "2c638ef4",
   "metadata": {},
   "source": [
    "For this part, you're given reads generated while trying to sequence the DNA of a mysterious unknown organism with a _tiny_ genome. Some of the course staff is not sure what a TeleTubby is, but I've been assured that no cute creatures were harmed in producing this data (which was generated synthetically).\n",
    "\n",
    "By answering the following questions, you will learn how to assemble the original genome sequence from sequence reads.\n",
    "\n",
    "Sequencing data is often stored in the FASTQ file format, with is a simple ASCII format that is somewhat human-readable. \n",
    "\n",
    "In _TeleTubby.fastq_ (which is included in the repository you forked), you will find the data that was read from the TeleTubby genome. Each four lines of the file repeat the same pattern. For example,\n",
    "```\n",
    "@TeleTubby Genome: Project 1\n",
    "TAAAATGG\n",
    "+\n",
    "HAICDF5I\n",
    "```\n",
    "The first line contains the metadata that encodes the name of the read, the experiment type, the kind of sequencing machine used, etc. \n",
    "\n",
    "The second line is the sequence of bases that was read. \n",
    "\n",
    "The third line is just a placeholder.\n",
    "\n",
    "The fourth line is a sequence of base qualities that encodes the qualities for the corresponding bases in the sequence line. We will discuss and use this for Problem 2."
   ]
  },
  {
   "cell_type": "markdown",
   "id": "68680f8b",
   "metadata": {},
   "source": [
    "Read in the data from `TeleTubby.fastq`:"
   ]
  },
  {
   "cell_type": "code",
   "execution_count": 4,
   "id": "39393a07",
   "metadata": {},
   "outputs": [],
   "source": [
    "# Read sequence reads (error-free) from file\n",
    "sequence_reads, qualities = utils.read_fastq('TeleTubby.fastq')"
   ]
  },
  {
   "cell_type": "markdown",
   "id": "508595a1",
   "metadata": {},
   "source": [
    "### Melting Temperature\n",
    "\n",
    "The GC-content (or the ratio of G and C nucleotides) is related to the melting temperature of a DNA double helix structure. \n",
    "\n",
    "The following equation can be used to estimate the melting temperature (in degrees Celsius) of DNA for a particular sequence:\n",
    "\n",
    "\\begin{equation*}\n",
    "t_m = 64.9+0.41(\\%GC)-\\frac{500}{\\text{length of sequence}}\n",
    "\\end{equation*}\n",
    "\n",
    "As a reference, the human genome is known to have between 35%-60% GC-content. \n",
    "\n",
    "<div class=\"alert alert-success\">\n",
    "\n",
    "**Problem 1.** Calculate the melting temperature for the TeleTubby genome using the formula above. Assume that the sequence is 200 nucleotides long, and that the provided read data has equal coverage everywhere so the G-C distribution in the reads is very close to the actual G-C distribution for the genome. \n",
    "    </div>"
   ]
  },
  {
   "cell_type": "code",
   "execution_count": 5,
   "id": "a102ca76",
   "metadata": {},
   "outputs": [],
   "source": [
    "# Write code here for calculating the %GC content from the sequence_reads, and computing the estimated melting temperature.\n",
    "\n",
    "num_GC = 0\n",
    "seq_len = 200\n",
    "\n",
    "for read in sequence_reads:\n",
    "    num_GC += read.count('C') + read.count('G')\n",
    "    \n",
    "percent_GC = num_GC / seq_len\n",
    "\n",
    "melt_temp = 64.9 + (0.41*percent_GC) - (500/seq_len)"
   ]
  },
  {
   "cell_type": "code",
   "execution_count": 6,
   "id": "122a1019",
   "metadata": {},
   "outputs": [
    {
     "name": "stdout",
     "output_type": "stream",
     "text": [
      "Melting temperature:  64.0031\n"
     ]
    }
   ],
   "source": [
    "# Print out temperature in Celsius\n",
    "\n",
    "print(\"Melting temperature: \", melt_temp)"
   ]
  },
  {
   "cell_type": "markdown",
   "id": "f62a37ab",
   "metadata": {},
   "source": [
    "## Interpreting Read Quality"
   ]
  },
  {
   "cell_type": "markdown",
   "id": "86c16995",
   "metadata": {},
   "source": [
    "Phred33 quality scores are represented as the character with an ASCII code equal to its value + 33 (to make them easy to print alongside genome sequences). The Phred scores $Q$ are related to error probabilities $P$ as: $Q = -10 \\log_{10}(P)$. The table linked here provides a mapping from the Phred values provided in a fastq file and the $Q$ values: [Quality Score Encoding](https://support.illumina.com/help/BaseSpace_OLH_009008/Content/Source/Informatics/BS/QualityScoreEncoding_swBS.htm) \n",
    "\n",
    "<div class=\"alert alert-success\">\n",
    "    \n",
    "**Problem 2.** Using the Phred scores, identify the _least likely to be correct_ read in the TeleTubby.fastq data, which is the read with the lowest probability that it contains _no_ errors.\n",
    "\n",
    "</div>"
   ]
  },
  {
   "cell_type": "code",
   "execution_count": 10,
   "id": "c2559959",
   "metadata": {},
   "outputs": [
    {
     "name": "stdout",
     "output_type": "stream",
     "text": [
      "Sequence:  GGAGGATC\n",
      "Error probability:  0.0001665931421343689\n",
      "Quality:  855?M7ME\n"
     ]
    }
   ],
   "source": [
    "# Write your code for Problem 2 here. \n",
    "# It should output the read (nucleotide sequence) with the lowest probability of containing no errors.\n",
    "\n",
    "error_prob = 0\n",
    "sequence = ''\n",
    "quality = '' # for testing purposes\n",
    "\n",
    "for index in range(len(sequence_reads)):\n",
    "    read = qualities[index]\n",
    "    total_read_error_prob = 0\n",
    "    for char in read:\n",
    "        phred_score = ord(char) - 33 # https://stackoverflow.com/questions/227459/how-to-get-the-ascii-value-of-a-character\n",
    "        total_read_error_prob += 10**(-phred_score / 10)\n",
    "    avg_read_error_prob = total_read_error_prob / len(sequence_reads)\n",
    "    \n",
    "    if avg_read_error_prob > error_prob:\n",
    "        error_prob = avg_read_error_prob\n",
    "        sequence = sequence_reads[index]\n",
    "        quality = read\n",
    "        \n",
    "print(\"Sequence: \", sequence)\n",
    "print(\"Error probability: \", error_prob)\n",
    "print(\"Quality: \", quality)"
   ]
  },
  {
   "cell_type": "markdown",
   "id": "5a5bb7df",
   "metadata": {},
   "source": [
    "Note: For the following problems, you can ignore the read quality scores, and safely assume there are no actual errors in the provided TeleTubby reads."
   ]
  },
  {
   "cell_type": "markdown",
   "id": "f61474bb",
   "metadata": {},
   "source": [
    "## Frequency analysis\n",
    "\n",
    "Looking at repetitions in the sequence can be helpful in estimating the \"redudancy\" in the organisms. Eucaryote genomes have a lot of redundancy, while smaller organisms like bacteria have highly packed genomes. One heuristic to estimate this before actually performing the assembly could be looking at how often certain $k$-mers are repeated.\n",
    "\n",
    "<div class=\"alert alert-success\">\n",
    "    \n",
    "**Problem 3.**\n",
    "    Print out the 3 most frequent <em>k</em>-mers in the TeleTubby reads with their frequencies. (As in Problem 1, doing this from the reads only produces the same result as from the genome if the read coverage is equal everywhere, but it should be a close estimate.)\n",
    "</div>"
   ]
  },
  {
   "cell_type": "code",
   "execution_count": null,
   "id": "2cbbc7b1",
   "metadata": {},
   "outputs": [],
   "source": [
    "# Your code here"
   ]
  },
  {
   "cell_type": "markdown",
   "id": "76896b89",
   "metadata": {},
   "source": [
    "## Greedy Assembly"
   ]
  },
  {
   "cell_type": "markdown",
   "id": "f8867b1f",
   "metadata": {},
   "source": [
    "Given a set of sequence fragments, the objective of assembly can be viewed as finding the shortest sequence that contains all the fragments.\n",
    "\n",
    "One of the approaches to assemble the genome from the given reads is a greedy algorithm:\n",
    "\n",
    "```\n",
    "while (len(fragments) > 1):\n",
    "   calculate pairwise alignments of all pairs of fragments\n",
    "   merge the two fragments with the largest overlap\n",
    "genome = fragment[0] # the single remaining fragment is the genome\n",
    "```\n"
   ]
  },
  {
   "cell_type": "markdown",
   "id": "802e4df5",
   "metadata": {},
   "source": [
    "<div class=\"alert alert-success\">\n",
    "    \n",
    "**Problem 4 (a)**. What would the runtime be of this algorithm, given $n$ $k$-mer reads? (If you are not sure how to express your answer to this question, review [_Cost of Computation_](https://computingbiology.github.io/complexity/).)\n",
    "    </div>"
   ]
  },
  {
   "cell_type": "markdown",
   "id": "638c0430",
   "metadata": {},
   "source": [
    "<i>Answer</i>:"
   ]
  },
  {
   "cell_type": "markdown",
   "id": "b7287a29",
   "metadata": {},
   "source": [
    "<div class=\"alert alert-success\">\n",
    "\n",
    "**Problem 4 (b)**. Is this algorithm guaranteed to find the correct genome? (A good answer will define what _correct_ means here, and explain why the algorithm is or is not guaranteed to find it.)"
   ]
  },
  {
   "cell_type": "markdown",
   "id": "34ce03ad",
   "metadata": {},
   "source": [
    "<i>Answer</i>:"
   ]
  },
  {
   "cell_type": "markdown",
   "id": "9894c919",
   "metadata": {},
   "source": [
    "## Graph-based Assembly"
   ]
  },
  {
   "cell_type": "markdown",
   "id": "fbdbd5e8",
   "metadata": {},
   "source": [
    "Graphs for genome assembly can be constructed in two ways:\n",
    "\n",
    "- de Bruijn graph: Processing $k-$mers as nodes, with $(k-1)-$mers as edges, and\n",
    "- Overlap graph: Processing $k-$mers as edges, with $(k-1)-$mers as nodes.\n",
    "\n",
    "A de Bruijn graph can be processed to find Euler paths, while Overlap graphs can be processed to find Hamiltonian paths. Both of these methods can be used reconstruct the original genome.\n",
    "\n",
    "<div class=\"alert alert-success\">\n",
    "    \n",
    "**Problem 5.**  Use one of these two techniques to reconstruct the TeleTubby genome from the provided sequence reads. \n",
    "    \n",
    "</div>\n",
    "    \n",
    "We have provided some template code below that may be helpful (but feel free to ignore this is you prefer)."
   ]
  },
  {
   "cell_type": "code",
   "execution_count": null,
   "id": "86133c24",
   "metadata": {},
   "outputs": [],
   "source": [
    "# Read reads into graph\n",
    "\n",
    "def build_graph(k_mers):\n",
    "    edges = []\n",
    "    nodes = set()\n",
    "    # Your code here\n",
    "    return nodes, edges"
   ]
  },
  {
   "cell_type": "code",
   "execution_count": null,
   "id": "79346387",
   "metadata": {},
   "outputs": [],
   "source": [
    "nodes, edges = build_graph(sequence_reads)"
   ]
  },
  {
   "cell_type": "code",
   "execution_count": null,
   "id": "a8b28bc1",
   "metadata": {},
   "outputs": [],
   "source": [
    "# Needed to properly visualize graphs\n",
    "%load_ext gvmagic"
   ]
  },
  {
   "cell_type": "code",
   "execution_count": null,
   "id": "935412a2",
   "metadata": {},
   "outputs": [],
   "source": [
    "# Helper function to visualize graphs\n",
    "%dotstr utils.viz_graph(nodes, edges)"
   ]
  },
  {
   "cell_type": "code",
   "execution_count": null,
   "id": "ece19f94",
   "metadata": {},
   "outputs": [],
   "source": [
    "# Main assembly algorithm\n",
    "\n",
    "def assemble_sequence(nodes, edges):\n",
    "    assembled_sequence = \"\"\n",
    "    # Your code here\n",
    "    return assembled_sequence"
   ]
  },
  {
   "cell_type": "code",
   "execution_count": null,
   "id": "415056b3",
   "metadata": {},
   "outputs": [],
   "source": [
    "# Output assembled sequence\n",
    "# Hint: Sequence is 200 nucleotides long\n",
    "\n",
    "assmebled_seq = assemble_sequence(nodes, edges)"
   ]
  },
  {
   "cell_type": "markdown",
   "id": "1f0fe96a",
   "metadata": {},
   "source": [
    "<div class=\"alert alert-success\"> \n",
    "    \n",
    "**Problem 6.** Which of the two assembly methods did you use for problem 5, and why? (Hint: consider how the costs scale with the number of reads.)\n",
    "    \n",
    "</div>"
   ]
  },
  {
   "cell_type": "markdown",
   "id": "db6ef8a3",
   "metadata": {},
   "source": [
    "## Part 2: Sequencing SARS-CoV-2 virus"
   ]
  },
  {
   "cell_type": "markdown",
   "id": "a55103fe",
   "metadata": {},
   "source": [
    "Let's move on from TeleTubbies to real-world organisms. For this problem, you'll assemble a genome for a variant of the SARS-CoV-2 virus. You're given reads from <i>actual</i> genome sequencing runs in the provided `SARS-CoV2.fastq` file. The file is based on the first Covid genome that was submitted on 5 January 2020: [https://www.ncbi.nlm.nih.gov/nuccore/NC_045512](https://www.ncbi.nlm.nih.gov/nuccore/NC_045512) But, you should be reconstructing a sequence from the provided reads without looking at the source sequence.\n",
    "\n",
    "<div class=\"alert alert-success\">\n",
    "    \n",
    "**Problem 7.**  Reconstruct the SATS-CoV2 genome from the provided sequence reads using $k=25$. \n",
    "    \n",
    "</div>\n",
    "\n",
    "You can re-use your implementation from Problem 5 and simply run it on the new data (depending on what you did for Problem 5, that might be enough to solve this problem). \n",
    "\n",
    "Print out your reconstructed sequence to a file `output.txt` (and add this file to the repo you submit). For this part, we will still assume that all the reads are error-free. "
   ]
  },
  {
   "cell_type": "code",
   "execution_count": null,
   "id": "8863b15b",
   "metadata": {},
   "outputs": [],
   "source": [
    "# Read sequence reads\n",
    "sequence_reads_covid, qualities_covid = utils.read_fastq('SARS-CoV2.fastq')"
   ]
  },
  {
   "cell_type": "code",
   "execution_count": null,
   "id": "45111555",
   "metadata": {},
   "outputs": [],
   "source": [
    "# Read reads into graph\n",
    "nodes_covid, edges_covid = build_graph(sequence_reads_covid)"
   ]
  },
  {
   "cell_type": "code",
   "execution_count": null,
   "id": "313edca6",
   "metadata": {},
   "outputs": [],
   "source": [
    "# Call main assembly algorithm\n",
    "assmebled_covid_seq = assemble_sequence(nodes_covid, edges_covid)"
   ]
  },
  {
   "cell_type": "code",
   "execution_count": null,
   "id": "3586680e",
   "metadata": {},
   "outputs": [],
   "source": [
    "# Write assembled sequence to file\n",
    "with open(\"output.txt\", \"w\") as f:\n",
    "    f.write(assmebled_covid_seq)"
   ]
  },
  {
   "cell_type": "markdown",
   "id": "0e0ed935",
   "metadata": {},
   "source": [
    "# Part 3: Error-Aware Assembly (Challenge Problem)"
   ]
  },
  {
   "cell_type": "markdown",
   "id": "d3ff45b7",
   "metadata": {},
   "source": [
    "<div class=\"alert alert-warning\">\n",
    "    This problem is a \"Challenge Problem\". This means it is a problem of unknown difficulty that might be quite challenging (unlike the earlier problems, we don't have a reference solution for this one, or a clear idea how hard it might be). We do hope all students will at least attempt this and that more ambitious students will work hard to solve it and learn interesting things by the attempt (whether or not it is successful), but not get frustrated if you can't get to the desired answer.  As a \"Challenge Problem\" it means that you shouldn't be worried if you are not able to solve this, though, and you can get full expected credit on this assignment without answering it.\n",
    "</div>\n",
    "\n",
    "\n",
    "In the parts above, we assumed error-free reads while assembling $k$-mers. As much as we'd like that, actual reads can (and do) have errors, captured by their Phred scores. \n",
    "\n",
    "For this question, you're given raw, actual reads from sequencing runs. Download the reads from this file:\n",
    "https://sra-pub-sars-cov2.s3.amazonaws.com/sra-src/SRR11528307/ABS2-LN-R1_cleaned_paired.fastq.gz.  \n",
    "\n",
    "\n",
    "<div class=\"alert alert-success\">\n",
    "    \n",
    "**Problem 8 (Challenge).** Give the reads in the linked fastq file above, including their Phred33 quality score, assemble the most likely genome. Your solution should output the assembled sequence in `challenge.txt`. Provide a brief explantion of how your algorithm works and interesting things you learned in developing it.\n",
    "    \n",
    "</div>\n",
    "    \n",
    "This is an open-ended question. You are free to use any approach to deal with the issue. Make sure you provide your code, along with any assumptions you may have."
   ]
  },
  {
   "cell_type": "markdown",
   "id": "b1cedb56",
   "metadata": {},
   "source": [
    "_Write a description of your algorithm, and things you learned from working on this here._"
   ]
  },
  {
   "cell_type": "code",
   "execution_count": null,
   "id": "dcd361b9",
   "metadata": {},
   "outputs": [],
   "source": [
    "# implementation "
   ]
  },
  {
   "cell_type": "markdown",
   "id": "76cb54ab",
   "metadata": {},
   "source": [
    "   <div class=\"alert alert-block alert-danger\">\n",
    "    <center>\n",
    "        \n",
    " **Remember to follow the submission directions above to submit your assignment by 4:59pm on Tuesday, 8 February.**\n",
    "    \n",
    " </center>\n",
    " </div>"
   ]
  }
 ],
 "metadata": {
  "kernelspec": {
   "display_name": "Python 3 (ipykernel)",
   "language": "python",
   "name": "python3"
  },
  "language_info": {
   "codemirror_mode": {
    "name": "ipython",
    "version": 3
   },
   "file_extension": ".py",
   "mimetype": "text/x-python",
   "name": "python",
   "nbconvert_exporter": "python",
   "pygments_lexer": "ipython3",
   "version": "3.10.2"
  }
 },
 "nbformat": 4,
 "nbformat_minor": 5
}
